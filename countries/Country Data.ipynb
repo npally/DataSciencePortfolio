{
 "cells": [
  {
   "cell_type": "markdown",
   "metadata": {},
   "source": [
    "Here we import all the necessary libraries import our data as a dataframe using pandas. After printing out the first 5 rows of our datafram using the head() method we see we need to make atleast one big change. Numbers with a comma as the decimal holder need to be replace with a period."
   ]
  },
  {
   "cell_type": "code",
   "execution_count": 1,
   "metadata": {},
   "outputs": [
    {
     "data": {
      "text/html": [
       "<div>\n",
       "<style scoped>\n",
       "    .dataframe tbody tr th:only-of-type {\n",
       "        vertical-align: middle;\n",
       "    }\n",
       "\n",
       "    .dataframe tbody tr th {\n",
       "        vertical-align: top;\n",
       "    }\n",
       "\n",
       "    .dataframe thead th {\n",
       "        text-align: right;\n",
       "    }\n",
       "</style>\n",
       "<table border=\"1\" class=\"dataframe\">\n",
       "  <thead>\n",
       "    <tr style=\"text-align: right;\">\n",
       "      <th></th>\n",
       "      <th>Country</th>\n",
       "      <th>Region</th>\n",
       "      <th>Population</th>\n",
       "      <th>Area (sq. mi.)</th>\n",
       "      <th>Pop. Density (per sq. mi.)</th>\n",
       "      <th>Coastline (coast/area ratio)</th>\n",
       "      <th>Net migration</th>\n",
       "      <th>Infant mortality (per 1000 births)</th>\n",
       "      <th>GDP ($ per capita)</th>\n",
       "      <th>Literacy (%)</th>\n",
       "      <th>Phones (per 1000)</th>\n",
       "      <th>Arable (%)</th>\n",
       "      <th>Crops (%)</th>\n",
       "      <th>Other (%)</th>\n",
       "      <th>Climate</th>\n",
       "      <th>Birthrate</th>\n",
       "      <th>Deathrate</th>\n",
       "      <th>Agriculture</th>\n",
       "      <th>Industry</th>\n",
       "      <th>Service</th>\n",
       "    </tr>\n",
       "  </thead>\n",
       "  <tbody>\n",
       "    <tr>\n",
       "      <th>0</th>\n",
       "      <td>Afghanistan</td>\n",
       "      <td>ASIA (EX. NEAR EAST)</td>\n",
       "      <td>31056997</td>\n",
       "      <td>647500</td>\n",
       "      <td>48,0</td>\n",
       "      <td>0,00</td>\n",
       "      <td>23,06</td>\n",
       "      <td>163,07</td>\n",
       "      <td>700.0</td>\n",
       "      <td>36,0</td>\n",
       "      <td>3,2</td>\n",
       "      <td>12,13</td>\n",
       "      <td>0,22</td>\n",
       "      <td>87,65</td>\n",
       "      <td>1</td>\n",
       "      <td>46,6</td>\n",
       "      <td>20,34</td>\n",
       "      <td>0,38</td>\n",
       "      <td>0,24</td>\n",
       "      <td>0,38</td>\n",
       "    </tr>\n",
       "    <tr>\n",
       "      <th>1</th>\n",
       "      <td>Albania</td>\n",
       "      <td>EASTERN EUROPE</td>\n",
       "      <td>3581655</td>\n",
       "      <td>28748</td>\n",
       "      <td>124,6</td>\n",
       "      <td>1,26</td>\n",
       "      <td>-4,93</td>\n",
       "      <td>21,52</td>\n",
       "      <td>4500.0</td>\n",
       "      <td>86,5</td>\n",
       "      <td>71,2</td>\n",
       "      <td>21,09</td>\n",
       "      <td>4,42</td>\n",
       "      <td>74,49</td>\n",
       "      <td>3</td>\n",
       "      <td>15,11</td>\n",
       "      <td>5,22</td>\n",
       "      <td>0,232</td>\n",
       "      <td>0,188</td>\n",
       "      <td>0,579</td>\n",
       "    </tr>\n",
       "    <tr>\n",
       "      <th>2</th>\n",
       "      <td>Algeria</td>\n",
       "      <td>NORTHERN AFRICA</td>\n",
       "      <td>32930091</td>\n",
       "      <td>2381740</td>\n",
       "      <td>13,8</td>\n",
       "      <td>0,04</td>\n",
       "      <td>-0,39</td>\n",
       "      <td>31</td>\n",
       "      <td>6000.0</td>\n",
       "      <td>70,0</td>\n",
       "      <td>78,1</td>\n",
       "      <td>3,22</td>\n",
       "      <td>0,25</td>\n",
       "      <td>96,53</td>\n",
       "      <td>1</td>\n",
       "      <td>17,14</td>\n",
       "      <td>4,61</td>\n",
       "      <td>0,101</td>\n",
       "      <td>0,6</td>\n",
       "      <td>0,298</td>\n",
       "    </tr>\n",
       "    <tr>\n",
       "      <th>3</th>\n",
       "      <td>American Samoa</td>\n",
       "      <td>OCEANIA</td>\n",
       "      <td>57794</td>\n",
       "      <td>199</td>\n",
       "      <td>290,4</td>\n",
       "      <td>58,29</td>\n",
       "      <td>-20,71</td>\n",
       "      <td>9,27</td>\n",
       "      <td>8000.0</td>\n",
       "      <td>97,0</td>\n",
       "      <td>259,5</td>\n",
       "      <td>10</td>\n",
       "      <td>15</td>\n",
       "      <td>75</td>\n",
       "      <td>2</td>\n",
       "      <td>22,46</td>\n",
       "      <td>3,27</td>\n",
       "      <td>NaN</td>\n",
       "      <td>NaN</td>\n",
       "      <td>NaN</td>\n",
       "    </tr>\n",
       "    <tr>\n",
       "      <th>4</th>\n",
       "      <td>Andorra</td>\n",
       "      <td>WESTERN EUROPE</td>\n",
       "      <td>71201</td>\n",
       "      <td>468</td>\n",
       "      <td>152,1</td>\n",
       "      <td>0,00</td>\n",
       "      <td>6,6</td>\n",
       "      <td>4,05</td>\n",
       "      <td>19000.0</td>\n",
       "      <td>100,0</td>\n",
       "      <td>497,2</td>\n",
       "      <td>2,22</td>\n",
       "      <td>0</td>\n",
       "      <td>97,78</td>\n",
       "      <td>3</td>\n",
       "      <td>8,71</td>\n",
       "      <td>6,25</td>\n",
       "      <td>NaN</td>\n",
       "      <td>NaN</td>\n",
       "      <td>NaN</td>\n",
       "    </tr>\n",
       "  </tbody>\n",
       "</table>\n",
       "</div>"
      ],
      "text/plain": [
       "           Country                               Region  Population  \\\n",
       "0     Afghanistan         ASIA (EX. NEAR EAST)             31056997   \n",
       "1         Albania   EASTERN EUROPE                          3581655   \n",
       "2         Algeria   NORTHERN AFRICA                        32930091   \n",
       "3  American Samoa   OCEANIA                                   57794   \n",
       "4         Andorra   WESTERN EUROPE                            71201   \n",
       "\n",
       "   Area (sq. mi.) Pop. Density (per sq. mi.) Coastline (coast/area ratio)  \\\n",
       "0          647500                       48,0                         0,00   \n",
       "1           28748                      124,6                         1,26   \n",
       "2         2381740                       13,8                         0,04   \n",
       "3             199                      290,4                        58,29   \n",
       "4             468                      152,1                         0,00   \n",
       "\n",
       "  Net migration Infant mortality (per 1000 births)  GDP ($ per capita)  \\\n",
       "0         23,06                             163,07               700.0   \n",
       "1         -4,93                              21,52              4500.0   \n",
       "2         -0,39                                 31              6000.0   \n",
       "3        -20,71                               9,27              8000.0   \n",
       "4           6,6                               4,05             19000.0   \n",
       "\n",
       "  Literacy (%) Phones (per 1000) Arable (%) Crops (%) Other (%) Climate  \\\n",
       "0         36,0               3,2      12,13      0,22     87,65       1   \n",
       "1         86,5              71,2      21,09      4,42     74,49       3   \n",
       "2         70,0              78,1       3,22      0,25     96,53       1   \n",
       "3         97,0             259,5         10        15        75       2   \n",
       "4        100,0             497,2       2,22         0     97,78       3   \n",
       "\n",
       "  Birthrate Deathrate Agriculture Industry Service  \n",
       "0      46,6     20,34        0,38     0,24    0,38  \n",
       "1     15,11      5,22       0,232    0,188   0,579  \n",
       "2     17,14      4,61       0,101      0,6   0,298  \n",
       "3     22,46      3,27         NaN      NaN     NaN  \n",
       "4      8,71      6,25         NaN      NaN     NaN  "
      ]
     },
     "execution_count": 1,
     "metadata": {},
     "output_type": "execute_result"
    }
   ],
   "source": [
    "import pandas as pd\n",
    "import numpy as np\n",
    "import matplotlib.pyplot as plt\n",
    "import seaborn as sns\n",
    "\n",
    "file = 'countries.csv'\n",
    "df = pd.read_csv(file)\n",
    "\n",
    "df.head()"
   ]
  },
  {
   "cell_type": "markdown",
   "metadata": {},
   "source": [
    "Next we will see how many entries are in the dataset using the shape attribute. This shows we have 227 countries in our dataframe."
   ]
  },
  {
   "cell_type": "code",
   "execution_count": 2,
   "metadata": {},
   "outputs": [
    {
     "data": {
      "text/plain": [
       "227"
      ]
     },
     "execution_count": 2,
     "metadata": {},
     "output_type": "execute_result"
    }
   ],
   "source": [
    "df.shape[0]"
   ]
  },
  {
   "cell_type": "markdown",
   "metadata": {},
   "source": [
    "To continue to better understand our data we use the info() method to see what datatype each column is stored as. We see many of the columns are stored as strings (or non-null objects). We can convert quite a few of these to floats or integers to make the data easier to work with. Just a quick glance shows 'Arable (%)', 'Crops(%)', and 'Other(%)' should be changed but there could be more."
   ]
  },
  {
   "cell_type": "code",
   "execution_count": 3,
   "metadata": {},
   "outputs": [
    {
     "name": "stdout",
     "output_type": "stream",
     "text": [
      "<class 'pandas.core.frame.DataFrame'>\n",
      "RangeIndex: 227 entries, 0 to 226\n",
      "Data columns (total 20 columns):\n",
      "Country                               227 non-null object\n",
      "Region                                227 non-null object\n",
      "Population                            227 non-null int64\n",
      "Area (sq. mi.)                        227 non-null int64\n",
      "Pop. Density (per sq. mi.)            227 non-null object\n",
      "Coastline (coast/area ratio)          227 non-null object\n",
      "Net migration                         224 non-null object\n",
      "Infant mortality (per 1000 births)    224 non-null object\n",
      "GDP ($ per capita)                    226 non-null float64\n",
      "Literacy (%)                          209 non-null object\n",
      "Phones (per 1000)                     223 non-null object\n",
      "Arable (%)                            225 non-null object\n",
      "Crops (%)                             225 non-null object\n",
      "Other (%)                             225 non-null object\n",
      "Climate                               205 non-null object\n",
      "Birthrate                             224 non-null object\n",
      "Deathrate                             223 non-null object\n",
      "Agriculture                           212 non-null object\n",
      "Industry                              211 non-null object\n",
      "Service                               212 non-null object\n",
      "dtypes: float64(1), int64(2), object(17)\n",
      "memory usage: 35.5+ KB\n"
     ]
    }
   ],
   "source": [
    "df.info()"
   ]
  },
  {
   "cell_type": "markdown",
   "metadata": {},
   "source": [
    "The first step to all the numeric entries that have commas as the decimal hold to dots. In the process we will convert these numbers to floats if they are not already in that format. I isolate all the columns that need to be converted, replace the commas, and convert the datatype to float. Now we have the data in the form we need it more or less. Some columns have null values but they are few enough to not concern us.\n"
   ]
  },
  {
   "cell_type": "code",
   "execution_count": 4,
   "metadata": {},
   "outputs": [
    {
     "data": {
      "text/plain": [
       "Index(['Country', 'Region', 'Population', 'Area (sq. mi.)',\n",
       "       'Pop. Density (per sq. mi.)', 'Coastline (coast/area ratio)',\n",
       "       'Net migration', 'Infant mortality (per 1000 births)',\n",
       "       'GDP ($ per capita)', 'Literacy (%)', 'Phones (per 1000)', 'Arable (%)',\n",
       "       'Crops (%)', 'Other (%)', 'Climate', 'Birthrate', 'Deathrate',\n",
       "       'Agriculture', 'Industry', 'Service'],\n",
       "      dtype='object')"
      ]
     },
     "execution_count": 4,
     "metadata": {},
     "output_type": "execute_result"
    }
   ],
   "source": [
    "df.columns"
   ]
  },
  {
   "cell_type": "code",
   "execution_count": 5,
   "metadata": {},
   "outputs": [
    {
     "name": "stdout",
     "output_type": "stream",
     "text": [
      "<class 'pandas.core.frame.DataFrame'>\n",
      "RangeIndex: 227 entries, 0 to 226\n",
      "Data columns (total 20 columns):\n",
      "Country                               227 non-null object\n",
      "Region                                227 non-null object\n",
      "Population                            227 non-null int64\n",
      "Area (sq. mi.)                        227 non-null int64\n",
      "Pop. Density (per sq. mi.)            227 non-null float64\n",
      "Coastline (coast/area ratio)          227 non-null float64\n",
      "Net migration                         224 non-null float64\n",
      "Infant mortality (per 1000 births)    224 non-null float64\n",
      "GDP ($ per capita)                    226 non-null float64\n",
      "Literacy (%)                          209 non-null float64\n",
      "Phones (per 1000)                     223 non-null float64\n",
      "Arable (%)                            225 non-null float64\n",
      "Crops (%)                             225 non-null float64\n",
      "Other (%)                             225 non-null float64\n",
      "Climate                               205 non-null object\n",
      "Birthrate                             224 non-null float64\n",
      "Deathrate                             223 non-null float64\n",
      "Agriculture                           212 non-null float64\n",
      "Industry                              211 non-null float64\n",
      "Service                               212 non-null float64\n",
      "dtypes: float64(15), int64(2), object(3)\n",
      "memory usage: 35.5+ KB\n"
     ]
    }
   ],
   "source": [
    "cols_to_conv= [\n",
    "       'Pop. Density (per sq. mi.)', 'Coastline (coast/area ratio)',\n",
    "       'Net migration', 'Infant mortality (per 1000 births)',\n",
    "        'Literacy (%)', 'Phones (per 1000)', 'Arable (%)',\n",
    "       'Crops (%)', 'Other (%)', 'Birthrate', 'Deathrate',\n",
    "       'Agriculture', 'Industry', 'Service']\n",
    "\n",
    "df[cols_to_conv]= (df[cols_to_conv].replace(',', '.', regex=True).astype(float))\n",
    "df['Region'] = df['Region'].str.strip()\n",
    "df.info()"
   ]
  },
  {
   "cell_type": "markdown",
   "metadata": {},
   "source": [
    "Now to rename some columns so the information they show is clearer."
   ]
  },
  {
   "cell_type": "code",
   "execution_count": 6,
   "metadata": {},
   "outputs": [
    {
     "data": {
      "text/plain": [
       "Index(['Country', 'Region', 'Population', 'Area (sq. mi.)',\n",
       "       'Pop. Density (per sq. mi.)', 'Coastline (coast/area ratio)',\n",
       "       'Net migration', 'Infant mortality (per 1000 births)',\n",
       "       'GDP ($ per capita)', 'Literacy (%)', 'Phones (per 1000)', 'Arable (%)',\n",
       "       'Crops (%)', 'Other (%)', 'Climate', 'Birthrate', 'Deathrate',\n",
       "       'Agriculture (%)', 'Industry (%)', 'Service (%)'],\n",
       "      dtype='object')"
      ]
     },
     "execution_count": 6,
     "metadata": {},
     "output_type": "execute_result"
    }
   ],
   "source": [
    "df=df.rename(columns={'Agriculture':'Agriculture (%)','Industry':'Industry (%)', 'Service':'Service (%)'})\n",
    "df.columns"
   ]
  },
  {
   "cell_type": "markdown",
   "metadata": {},
   "source": [
    "Now we will look at some data. Let first look at the population. Here we have created a dataframe showing the top 10 most populated countries in the world"
   ]
  },
  {
   "cell_type": "code",
   "execution_count": 7,
   "metadata": {},
   "outputs": [
    {
     "data": {
      "text/html": [
       "<div>\n",
       "<style scoped>\n",
       "    .dataframe tbody tr th:only-of-type {\n",
       "        vertical-align: middle;\n",
       "    }\n",
       "\n",
       "    .dataframe tbody tr th {\n",
       "        vertical-align: top;\n",
       "    }\n",
       "\n",
       "    .dataframe thead th {\n",
       "        text-align: right;\n",
       "    }\n",
       "</style>\n",
       "<table border=\"1\" class=\"dataframe\">\n",
       "  <thead>\n",
       "    <tr style=\"text-align: right;\">\n",
       "      <th></th>\n",
       "      <th>Country</th>\n",
       "      <th>Population</th>\n",
       "    </tr>\n",
       "  </thead>\n",
       "  <tbody>\n",
       "    <tr>\n",
       "      <th>42</th>\n",
       "      <td>China</td>\n",
       "      <td>1313973713</td>\n",
       "    </tr>\n",
       "    <tr>\n",
       "      <th>94</th>\n",
       "      <td>India</td>\n",
       "      <td>1095351995</td>\n",
       "    </tr>\n",
       "    <tr>\n",
       "      <th>214</th>\n",
       "      <td>United States</td>\n",
       "      <td>298444215</td>\n",
       "    </tr>\n",
       "    <tr>\n",
       "      <th>95</th>\n",
       "      <td>Indonesia</td>\n",
       "      <td>245452739</td>\n",
       "    </tr>\n",
       "    <tr>\n",
       "      <th>27</th>\n",
       "      <td>Brazil</td>\n",
       "      <td>188078227</td>\n",
       "    </tr>\n",
       "    <tr>\n",
       "      <th>156</th>\n",
       "      <td>Pakistan</td>\n",
       "      <td>165803560</td>\n",
       "    </tr>\n",
       "    <tr>\n",
       "      <th>16</th>\n",
       "      <td>Bangladesh</td>\n",
       "      <td>147365352</td>\n",
       "    </tr>\n",
       "    <tr>\n",
       "      <th>169</th>\n",
       "      <td>Russia</td>\n",
       "      <td>142893540</td>\n",
       "    </tr>\n",
       "    <tr>\n",
       "      <th>152</th>\n",
       "      <td>Nigeria</td>\n",
       "      <td>131859731</td>\n",
       "    </tr>\n",
       "    <tr>\n",
       "      <th>103</th>\n",
       "      <td>Japan</td>\n",
       "      <td>127463611</td>\n",
       "    </tr>\n",
       "  </tbody>\n",
       "</table>\n",
       "</div>"
      ],
      "text/plain": [
       "            Country  Population\n",
       "42           China   1313973713\n",
       "94           India   1095351995\n",
       "214  United States    298444215\n",
       "95       Indonesia    245452739\n",
       "27          Brazil    188078227\n",
       "156       Pakistan    165803560\n",
       "16      Bangladesh    147365352\n",
       "169         Russia    142893540\n",
       "152        Nigeria    131859731\n",
       "103          Japan    127463611"
      ]
     },
     "execution_count": 7,
     "metadata": {},
     "output_type": "execute_result"
    }
   ],
   "source": [
    "pop = df[['Country','Population']]\n",
    "pop_top_ten = pop.sort_values(by=['Population'], ascending=False).head(10)\n",
    "pop_top_ten"
   ]
  },
  {
   "cell_type": "code",
   "execution_count": 8,
   "metadata": {},
   "outputs": [
    {
     "data": {
      "image/png": "[encoded data removed]",
      "text/plain": [
       "<Figure size 432x288 with 1 Axes>"
      ]
     },
     "metadata": {},
     "output_type": "display_data"
    }
   ],
   "source": [
    "sns.set()\n",
    "sns.barplot(pop_top_ten['Country'], pop_top_ten['Population'])\n",
    "plt.xticks(rotation=90)\n",
    "plt.ylabel('Population (in billions)')\n",
    "plt.title('Ten Most Populated Countries in the World')\n",
    "plt.show()"
   ]
  },
  {
   "cell_type": "markdown",
   "metadata": {},
   "source": [
    "From this visualization we can see China and India are by far the most populated countries in the world and stand out relative to the other top eight. Let's compare China to the world average. The visualization shows the huge difference between China and world average"
   ]
  },
  {
   "cell_type": "code",
   "execution_count": 9,
   "metadata": {},
   "outputs": [
    {
     "name": "stdout",
     "output_type": "stream",
     "text": [
      "Average Country Population: 28,740,284\n",
      "China Population: 1,313,973,713\n"
     ]
    }
   ],
   "source": [
    "df['Country'] = df['Country'].str.strip()\n",
    "china = df.loc[df['Country']== 'China']\n",
    "world_mean= round(df['Population'].mean())\n",
    "china_pop = china['Population'].values\n",
    "print('Average Country Population: {:,}\\nChina Population: {:,}'.format(int(world_mean), china_pop[0]))\n",
    "\n",
    "\n",
    "\n",
    "\n"
   ]
  },
  {
   "cell_type": "code",
   "execution_count": 10,
   "metadata": {},
   "outputs": [
    {
     "data": {
      "image/png": "[encoded data removed]",
      "text/plain": [
       "<Figure size 432x288 with 1 Axes>"
      ]
     },
     "metadata": {},
     "output_type": "display_data"
    }
   ],
   "source": [
    "data = {u'China':china_pop[0], u'World Average':world_mean}\n",
    "plt.bar(*zip(*data.items()))\n",
    "plt.ylabel('Population (in billions)')\n",
    "plt.title('Population of China vs World Average')\n",
    "plt.show()"
   ]
  },
  {
   "cell_type": "markdown",
   "metadata": {},
   "source": [
    "Now we can look at the GDP figures for the top and bottom 10 countries"
   ]
  },
  {
   "cell_type": "code",
   "execution_count": 11,
   "metadata": {},
   "outputs": [
    {
     "data": {
      "text/html": [
       "<div>\n",
       "<style scoped>\n",
       "    .dataframe tbody tr th:only-of-type {\n",
       "        vertical-align: middle;\n",
       "    }\n",
       "\n",
       "    .dataframe tbody tr th {\n",
       "        vertical-align: top;\n",
       "    }\n",
       "\n",
       "    .dataframe thead th {\n",
       "        text-align: right;\n",
       "    }\n",
       "</style>\n",
       "<table border=\"1\" class=\"dataframe\">\n",
       "  <thead>\n",
       "    <tr style=\"text-align: right;\">\n",
       "      <th></th>\n",
       "      <th>Country</th>\n",
       "      <th>GDP ($ per capita)</th>\n",
       "    </tr>\n",
       "  </thead>\n",
       "  <tbody>\n",
       "    <tr>\n",
       "      <th>121</th>\n",
       "      <td>Luxembourg</td>\n",
       "      <td>55100.0</td>\n",
       "    </tr>\n",
       "    <tr>\n",
       "      <th>154</th>\n",
       "      <td>Norway</td>\n",
       "      <td>37800.0</td>\n",
       "    </tr>\n",
       "    <tr>\n",
       "      <th>214</th>\n",
       "      <td>United States</td>\n",
       "      <td>37800.0</td>\n",
       "    </tr>\n",
       "    <tr>\n",
       "      <th>22</th>\n",
       "      <td>Bermuda</td>\n",
       "      <td>36000.0</td>\n",
       "    </tr>\n",
       "    <tr>\n",
       "      <th>38</th>\n",
       "      <td>Cayman Islands</td>\n",
       "      <td>35000.0</td>\n",
       "    </tr>\n",
       "    <tr>\n",
       "      <th>177</th>\n",
       "      <td>San Marino</td>\n",
       "      <td>34600.0</td>\n",
       "    </tr>\n",
       "    <tr>\n",
       "      <th>196</th>\n",
       "      <td>Switzerland</td>\n",
       "      <td>32700.0</td>\n",
       "    </tr>\n",
       "    <tr>\n",
       "      <th>54</th>\n",
       "      <td>Denmark</td>\n",
       "      <td>31100.0</td>\n",
       "    </tr>\n",
       "    <tr>\n",
       "      <th>93</th>\n",
       "      <td>Iceland</td>\n",
       "      <td>30900.0</td>\n",
       "    </tr>\n",
       "    <tr>\n",
       "      <th>12</th>\n",
       "      <td>Austria</td>\n",
       "      <td>30000.0</td>\n",
       "    </tr>\n",
       "  </tbody>\n",
       "</table>\n",
       "</div>"
      ],
      "text/plain": [
       "            Country  GDP ($ per capita)\n",
       "121      Luxembourg             55100.0\n",
       "154          Norway             37800.0\n",
       "214   United States             37800.0\n",
       "22          Bermuda             36000.0\n",
       "38   Cayman Islands             35000.0\n",
       "177      San Marino             34600.0\n",
       "196     Switzerland             32700.0\n",
       "54          Denmark             31100.0\n",
       "93          Iceland             30900.0\n",
       "12          Austria             30000.0"
      ]
     },
     "execution_count": 11,
     "metadata": {},
     "output_type": "execute_result"
    }
   ],
   "source": [
    "gdp = df[['Country', 'GDP ($ per capita)']]\n",
    "gdp_top_ten = gdp.sort_values(by=['GDP ($ per capita)'], ascending=False).head(10)\n",
    "gdp_top_ten"
   ]
  },
  {
   "cell_type": "code",
   "execution_count": 12,
   "metadata": {},
   "outputs": [
    {
     "data": {
      "text/html": [
       "<div>\n",
       "<style scoped>\n",
       "    .dataframe tbody tr th:only-of-type {\n",
       "        vertical-align: middle;\n",
       "    }\n",
       "\n",
       "    .dataframe tbody tr th {\n",
       "        vertical-align: top;\n",
       "    }\n",
       "\n",
       "    .dataframe thead th {\n",
       "        text-align: right;\n",
       "    }\n",
       "</style>\n",
       "<table border=\"1\" class=\"dataframe\">\n",
       "  <thead>\n",
       "    <tr style=\"text-align: right;\">\n",
       "      <th></th>\n",
       "      <th>Country</th>\n",
       "      <th>GDP ($ per capita)</th>\n",
       "    </tr>\n",
       "  </thead>\n",
       "  <tbody>\n",
       "    <tr>\n",
       "      <th>58</th>\n",
       "      <td>East Timor</td>\n",
       "      <td>500.0</td>\n",
       "    </tr>\n",
       "    <tr>\n",
       "      <th>188</th>\n",
       "      <td>Somalia</td>\n",
       "      <td>500.0</td>\n",
       "    </tr>\n",
       "    <tr>\n",
       "      <th>183</th>\n",
       "      <td>Sierra Leone</td>\n",
       "      <td>500.0</td>\n",
       "    </tr>\n",
       "    <tr>\n",
       "      <th>33</th>\n",
       "      <td>Burundi</td>\n",
       "      <td>600.0</td>\n",
       "    </tr>\n",
       "    <tr>\n",
       "      <th>200</th>\n",
       "      <td>Tanzania</td>\n",
       "      <td>600.0</td>\n",
       "    </tr>\n",
       "    <tr>\n",
       "      <th>74</th>\n",
       "      <td>Gaza Strip</td>\n",
       "      <td>600.0</td>\n",
       "    </tr>\n",
       "    <tr>\n",
       "      <th>125</th>\n",
       "      <td>Malawi</td>\n",
       "      <td>600.0</td>\n",
       "    </tr>\n",
       "    <tr>\n",
       "      <th>0</th>\n",
       "      <td>Afghanistan</td>\n",
       "      <td>700.0</td>\n",
       "    </tr>\n",
       "    <tr>\n",
       "      <th>46</th>\n",
       "      <td>Congo, Repub. of the</td>\n",
       "      <td>700.0</td>\n",
       "    </tr>\n",
       "    <tr>\n",
       "      <th>63</th>\n",
       "      <td>Eritrea</td>\n",
       "      <td>700.0</td>\n",
       "    </tr>\n",
       "  </tbody>\n",
       "</table>\n",
       "</div>"
      ],
      "text/plain": [
       "                  Country  GDP ($ per capita)\n",
       "58             East Timor               500.0\n",
       "188               Somalia               500.0\n",
       "183          Sierra Leone               500.0\n",
       "33                Burundi               600.0\n",
       "200              Tanzania               600.0\n",
       "74             Gaza Strip               600.0\n",
       "125                Malawi               600.0\n",
       "0             Afghanistan               700.0\n",
       "46   Congo, Repub. of the               700.0\n",
       "63                Eritrea               700.0"
      ]
     },
     "execution_count": 12,
     "metadata": {},
     "output_type": "execute_result"
    }
   ],
   "source": [
    "gdp_bottom_ten = gdp.sort_values(by=['GDP ($ per capita)'], ascending=True).head(10)\n",
    "gdp_bottom_ten"
   ]
  },
  {
   "cell_type": "markdown",
   "metadata": {},
   "source": [
    "From this data it looks like if we went by region, Europe would have the highest average and Africa would have the lowest. Let's group this data by region to find out."
   ]
  },
  {
   "cell_type": "code",
   "execution_count": 13,
   "metadata": {},
   "outputs": [
    {
     "data": {
      "text/html": [
       "<div>\n",
       "<style scoped>\n",
       "    .dataframe tbody tr th:only-of-type {\n",
       "        vertical-align: middle;\n",
       "    }\n",
       "\n",
       "    .dataframe tbody tr th {\n",
       "        vertical-align: top;\n",
       "    }\n",
       "\n",
       "    .dataframe thead th {\n",
       "        text-align: right;\n",
       "    }\n",
       "</style>\n",
       "<table border=\"1\" class=\"dataframe\">\n",
       "  <thead>\n",
       "    <tr style=\"text-align: right;\">\n",
       "      <th></th>\n",
       "      <th>GDP ($ per capita)</th>\n",
       "    </tr>\n",
       "    <tr>\n",
       "      <th>Region</th>\n",
       "      <th></th>\n",
       "    </tr>\n",
       "  </thead>\n",
       "  <tbody>\n",
       "    <tr>\n",
       "      <th>WESTERN EUROPE</th>\n",
       "      <td>27046.428571</td>\n",
       "    </tr>\n",
       "    <tr>\n",
       "      <th>NORTHERN AMERICA</th>\n",
       "      <td>26100.000000</td>\n",
       "    </tr>\n",
       "    <tr>\n",
       "      <th>BALTICS</th>\n",
       "      <td>11300.000000</td>\n",
       "    </tr>\n",
       "    <tr>\n",
       "      <th>NEAR EAST</th>\n",
       "      <td>10456.250000</td>\n",
       "    </tr>\n",
       "    <tr>\n",
       "      <th>EASTERN EUROPE</th>\n",
       "      <td>9808.333333</td>\n",
       "    </tr>\n",
       "    <tr>\n",
       "      <th>LATIN AMER. &amp; CARIB</th>\n",
       "      <td>8682.222222</td>\n",
       "    </tr>\n",
       "    <tr>\n",
       "      <th>OCEANIA</th>\n",
       "      <td>8247.619048</td>\n",
       "    </tr>\n",
       "    <tr>\n",
       "      <th>ASIA (EX. NEAR EAST)</th>\n",
       "      <td>8053.571429</td>\n",
       "    </tr>\n",
       "    <tr>\n",
       "      <th>NORTHERN AFRICA</th>\n",
       "      <td>5460.000000</td>\n",
       "    </tr>\n",
       "    <tr>\n",
       "      <th>C.W. OF IND. STATES</th>\n",
       "      <td>4000.000000</td>\n",
       "    </tr>\n",
       "    <tr>\n",
       "      <th>SUB-SAHARAN AFRICA</th>\n",
       "      <td>2323.529412</td>\n",
       "    </tr>\n",
       "  </tbody>\n",
       "</table>\n",
       "</div>"
      ],
      "text/plain": [
       "                      GDP ($ per capita)\n",
       "Region                                  \n",
       "WESTERN EUROPE              27046.428571\n",
       "NORTHERN AMERICA            26100.000000\n",
       "BALTICS                     11300.000000\n",
       "NEAR EAST                   10456.250000\n",
       "EASTERN EUROPE               9808.333333\n",
       "LATIN AMER. & CARIB          8682.222222\n",
       "OCEANIA                      8247.619048\n",
       "ASIA (EX. NEAR EAST)         8053.571429\n",
       "NORTHERN AFRICA              5460.000000\n",
       "C.W. OF IND. STATES          4000.000000\n",
       "SUB-SAHARAN AFRICA           2323.529412"
      ]
     },
     "execution_count": 13,
     "metadata": {},
     "output_type": "execute_result"
    }
   ],
   "source": [
    "gdp_region = df[['Region','GDP ($ per capita)']]\n",
    "gdp_by_region = gdp_region.groupby('Region').agg(np.mean).sort_values(by=['GDP ($ per capita)'], ascending=False)\n",
    "gdp_by_region"
   ]
  },
  {
   "cell_type": "code",
   "execution_count": 14,
   "metadata": {},
   "outputs": [
    {
     "data": {
      "image/png": "[encoded data removed]",
      "text/plain": [
       "<Figure size 432x288 with 1 Axes>"
      ]
     },
     "metadata": {},
     "output_type": "display_data"
    }
   ],
   "source": [
    "gdp_by_region.plot(kind='bar', align= 'center')\n",
    "plt.xticks(fontsize= 'small')\n",
    "plt.ylabel('')\n",
    "plt.title('Average GDP by Global Region')\n",
    "\n",
    "plt.show()"
   ]
  },
  {
   "cell_type": "markdown",
   "metadata": {},
   "source": [
    "After visualizing our data we can see we were correct. Europe, specifically Western Europe, and North America have the the highest average GDP while Africa has the lowest average."
   ]
  },
  {
   "cell_type": "code",
   "execution_count": null,
   "metadata": {},
   "outputs": [],
   "source": []
  }
 ],
 "metadata": {
  "kernelspec": {
   "display_name": "Python 3",
   "language": "python",
   "name": "python3"
  },
  "language_info": {
   "codemirror_mode": {
    "name": "ipython",
    "version": 3
   },
   "file_extension": ".py",
   "mimetype": "text/x-python",
   "name": "python",
   "nbconvert_exporter": "python",
   "pygments_lexer": "ipython3",
   "version": "3.6.3"
  }
 },
 "nbformat": 4,
 "nbformat_minor": 2
}
